{
 "cells": [
  {
   "cell_type": "code",
   "execution_count": 1,
   "id": "1f50a3fc",
   "metadata": {},
   "outputs": [
    {
     "name": "stdout",
     "output_type": "stream",
     "text": [
      "Note: you may need to restart the kernel to use updated packages.\n"
     ]
    },
    {
     "name": "stderr",
     "output_type": "stream",
     "text": [
      "\n",
      "[notice] A new release of pip is available: 24.2 -> 25.1.1\n",
      "[notice] To update, run: python.exe -m pip install --upgrade pip\n"
     ]
    }
   ],
   "source": [
    "%pip install --quiet --upgrade langchain-text-splitters langchain-community langgraph"
   ]
  },
  {
   "cell_type": "code",
   "execution_count": null,
   "id": "6790bfc5",
   "metadata": {},
   "outputs": [],
   "source": [
    "import getpass\n",
    "import os\n",
    "\n",
    "os.environ[\"LANGCHAIN_TRACING_V2\"] = \"true\"\n",
    "os.environ[\"LANGCHAIN_API_KEY\"] = \"\"\n",
    "os.environ[\"LANGCHAIN_PROJECT\"] =\"devin-ai\""
   ]
  },
  {
   "cell_type": "code",
   "execution_count": 2,
   "id": "3e3bc575",
   "metadata": {},
   "outputs": [
    {
     "name": "stdout",
     "output_type": "stream",
     "text": [
      "Note: you may need to restart the kernel to use updated packages.\n"
     ]
    },
    {
     "name": "stderr",
     "output_type": "stream",
     "text": [
      "\n",
      "[notice] A new release of pip is available: 24.2 -> 25.1.1\n",
      "[notice] To update, run: python.exe -m pip install --upgrade pip\n"
     ]
    }
   ],
   "source": [
    "%pip install -qU langchain-groq"
   ]
  },
  {
   "cell_type": "code",
   "execution_count": null,
   "id": "eaa6227e",
   "metadata": {},
   "outputs": [],
   "source": [
    "import getpass\n",
    "import os\n",
    "\n",
    "if not os.environ.get(\"GROQ_API_KEY\"):\n",
    "  os.environ[\"GROQ_API_KEY\"] = \"\"\n",
    "\n",
    "from langchain_groq import ChatGroq\n",
    "\n",
    "llm = ChatGroq(model=\"llama3-8b-8192\")"
   ]
  },
  {
   "cell_type": "code",
   "execution_count": 4,
   "id": "2f7c4ec4",
   "metadata": {},
   "outputs": [
    {
     "name": "stderr",
     "output_type": "stream",
     "text": [
      "\n",
      "[notice] A new release of pip is available: 24.2 -> 25.1.1\n",
      "[notice] To update, run: python.exe -m pip install --upgrade pip\n"
     ]
    },
    {
     "name": "stdout",
     "output_type": "stream",
     "text": [
      "Note: you may need to restart the kernel to use updated packages.\n"
     ]
    }
   ],
   "source": [
    "%pip install -qU langchain-ollama\n",
    "\n",
    "from langchain_ollama import OllamaEmbeddings\n",
    "\n",
    "embeddings = OllamaEmbeddings(model=\"llama3\")"
   ]
  },
  {
   "cell_type": "code",
   "execution_count": 5,
   "id": "f867eade",
   "metadata": {},
   "outputs": [
    {
     "name": "stdout",
     "output_type": "stream",
     "text": [
      "Note: you may need to restart the kernel to use updated packages.\n"
     ]
    },
    {
     "name": "stderr",
     "output_type": "stream",
     "text": [
      "\n",
      "[notice] A new release of pip is available: 24.2 -> 25.1.1\n",
      "[notice] To update, run: python.exe -m pip install --upgrade pip\n"
     ]
    }
   ],
   "source": [
    "%pip install -qU langchain-core"
   ]
  },
  {
   "cell_type": "code",
   "execution_count": 6,
   "id": "cbf280fd",
   "metadata": {},
   "outputs": [],
   "source": [
    "from langchain_core.vectorstores import InMemoryVectorStore\n",
    "\n",
    "vector_store = InMemoryVectorStore(embeddings)"
   ]
  },
  {
   "cell_type": "markdown",
   "id": "8a8e4346",
   "metadata": {},
   "source": [
    "LLM TEST"
   ]
  },
  {
   "cell_type": "code",
   "execution_count": 14,
   "id": "062f6b74",
   "metadata": {},
   "outputs": [
    {
     "name": "stdout",
     "output_type": "stream",
     "text": [
      "content='A question that sparks debate! While it\\'s difficult to pinpoint a single most famous song of all time, I can give you some insights based on various sources and metrics.\\n\\nAccording to various polls, awards, and sales figures, some of the most famous songs of all time include:\\n\\n1. \"Hey Jude\" by The Beatles (1968) - with over 10 million copies sold worldwide, this uplifting ballad is often considered one of the greatest songs of all time.\\n2. \"Stairway to Heaven\" by Led Zeppelin (1971) - this iconic rock ballad has been a staple of rock music for decades and is widely considered one of the greatest songs ever written.\\n3. \"Imagine\" by John Lennon (1971) - this powerful ballad has become an anthem for peace and unity, with over 10 million copies sold worldwide.\\n4. \"Bohemian Rhapsody\" by Queen (1975) - this epic, operatic rock ballad has become a classic and is often cited as one of the most iconic songs of all time.\\n5. \"We Are the Champions\" by Queen (1977) - this anthemic rock song has become a staple of sports events and celebrations around the world, with over 4 million copies sold worldwide.\\n6. \"Hotel California\" by The Eagles (1976) - this haunting rock ballad has become a classic of the genre and is widely considered one of the greatest songs of all time.\\n7. \"Smells Like Teen Spirit\" by Nirvana (1991) - this grunge anthem has become a cultural touchstone and is often cited as one of the greatest songs of all time.\\n8. \"Thriller\" by Michael Jackson (1982) - this iconic pop song has become a cultural phenomenon, with over 65 million copies sold worldwide.\\n9. \"Yesterday\" by The Beatles (1965) - this beautiful acoustic ballad is one of the most covered songs in history, with over 2,200 recorded versions.\\n10. \"Like a Rolling Stone\" by Bob Dylan (1965) - this groundbreaking song is often cited as one of the greatest songs of all time, with over 1 million copies sold worldwide.\\n\\nOf course, this is just a small sample of the many famous and iconic songs out there. The \"most famous\" song is ultimately a matter of personal opinion and can vary depending on cultural context, personal taste, and historical significance.' additional_kwargs={} response_metadata={'token_usage': {'completion_tokens': 499, 'prompt_tokens': 16, 'total_tokens': 515, 'completion_time': 0.463469996, 'prompt_time': 0.002783553, 'queue_time': 0.048108868, 'total_time': 0.466253549}, 'model_name': 'llama3-8b-8192', 'system_fingerprint': 'fp_24ec19897b', 'finish_reason': 'stop', 'logprobs': None} id='run--46af7ad8-36dc-40a7-915a-e118096dc906-0' usage_metadata={'input_tokens': 16, 'output_tokens': 499, 'total_tokens': 515}\n"
     ]
    }
   ],
   "source": [
    "llm_response = llm.invoke(\"The most famous song is?\")\n",
    "print(llm_response)"
   ]
  },
  {
   "cell_type": "markdown",
   "id": "cf806562",
   "metadata": {},
   "source": [
    "RAG System Implementation"
   ]
  },
  {
   "cell_type": "code",
   "execution_count": 15,
   "id": "ecf960f7",
   "metadata": {},
   "outputs": [
    {
     "name": "stdout",
     "output_type": "stream",
     "text": [
      "Note: you may need to restart the kernel to use updated packages.\n"
     ]
    },
    {
     "name": "stderr",
     "output_type": "stream",
     "text": [
      "\n",
      "[notice] A new release of pip is available: 24.2 -> 25.1.1\n",
      "[notice] To update, run: python.exe -m pip install --upgrade pip\n"
     ]
    }
   ],
   "source": [
    "%pip install -qU pypdf"
   ]
  },
  {
   "cell_type": "code",
   "execution_count": 17,
   "id": "3472f535",
   "metadata": {},
   "outputs": [
    {
     "name": "stdout",
     "output_type": "stream",
     "text": [
      "Loaded 2 documents from the folder.\n",
      "[Document(metadata={'producer': '', 'creator': '', 'creationdate': '2025-07-11T05:01:56-07:00', 'title': '', 'author': 'Seemanto Saha', 'subject': '', 'keywords': '', 'moddate': '2025-07-11T05:01:56-07:00', 'source': './content/Documents\\\\Inventory-Records-Sample-Data.pdf', 'total_pages': 2, 'page': 0, 'page_label': '1'}, page_content='Excel Sample Data\\nInventory Records Data\\nProduct ID Product Name Opening \\nStock\\nPurchase/\\nStock in\\nNumber of \\nUnits Sold\\nHand-In-\\nStock\\nCost Price \\nPer Unit (USD)\\nCost Price\\nTotal (USD)\\nP101 Laptop 50 20 10 60 1200 72000\\nP102 Monitor 40 15 5 50 500 25000\\nP103 Keyboard 60 25 15 70 50 3500\\nP104 Headphones 30 10 3 37 100 3700\\nP105 Smartphone 70 30 20 80 900 72000\\nP106 Tablet 45 18 8 55 700 38500\\nP107 Router 55 22 12 65 150 9750\\nP108 External Hard Drive 25 12 5 32 200 6400\\nP109 Wireless Earbuds 35 15 7 43 80 3440\\nP110 Webcam 40 20 10 50 60 3000\\nP111 Desk Chair 20 8 3 25 150 3750\\nP112 Desk Lamp 30 15 7 38 30 1140\\nP113 USB Flash Drive 50 25 12 63 20 1260\\nP114 Ethernet Cable 60 30 15 75 10 750\\nP115 Power Strip 40 20 8 52 25 1300\\nP116 Wireless Mouse 35 15 5 45 40 1800\\nP117 Gaming Keyboard 25 10 4 31 100 3100\\nP118 Gaming Mouse 30 12 6 36 80 2880\\nP119 Gaming Headset 20 8 3 25 120 3000\\nP120 Gaming Chair 15 6 2 19 200 3800\\nP121 Gaming Monitor 25 10 4 29 400 11600\\nP122 Graphics Card 40 18 9 49 600 29400\\nP123 CPU 30 15 7 38 350 13300\\nP124 Motherboard 25 12 5 32 200 6400\\nP125 RAM 50 22 11 61 80 4880'), Document(metadata={'producer': '', 'creator': '', 'creationdate': '2025-07-11T05:01:56-07:00', 'title': '', 'author': 'Seemanto Saha', 'subject': '', 'keywords': '', 'moddate': '2025-07-11T05:01:56-07:00', 'source': './content/Documents\\\\Inventory-Records-Sample-Data.pdf', 'total_pages': 2, 'page': 1, 'page_label': '2'}, page_content='P126 SSD 45 20 8 57 120 6840\\nP127 HDD 60 25 12 73 60 4380\\nP128 Power Supply 35 15 6 44 100 4400\\nP129 PC Case 40 18 9 49 80 3920\\nP130 CPU Cooler 30 12 4 34 50 1700\\nP131 Monitor Stand 25 10 3 28 30 840\\nP132 Mouse Pad 50 20 8 58 10 580\\nP133 Thermal Paste 40 15 5 50 5 250\\nP134 Cable Management Kit 30 12 4 34 15 510\\nP135 WiFi Adapter 20 8 3 23 20 460\\nP136 External DVD Drive 15 6 2 17 50 850\\nP137 Printer Cable 25 10 4 29 5 145\\nP138 Keyboard Cleaner 40 18 9 49 8 392\\nP139 Laptop Cooling Pad 30 15 6 39 20 780\\nP140 USB Hub 35 12 4 31 15 465\\nP141 Anti-Glare Screen Protector 25 8 3 28 10 280\\nP142 USB-C Adapter 20 10 4 24 15 360\\nP143 Laptop Sleeve 30 12 5 37 20 740\\nP144 Wireless Charger 40 18 7 51 30 1530\\nP145 USB-C Cable 50 20 9 61 8 488\\nP146 Gaming Desk 25 10 3 28 150 4200')]\n"
     ]
    }
   ],
   "source": [
    "from langchain_community.document_loaders import PyPDFLoader, Docx2txtLoader, TextLoader\n",
    "from langchain_text_splitters import RecursiveCharacterTextSplitter\n",
    "from typing import List\n",
    "from langchain_core.documents import Document\n",
    "import os\n",
    "\n",
    "def load_documents(folder_path: str) -> List[Document] :\n",
    "  documents = []\n",
    "  for filename in os.listdir(folder_path):\n",
    "      file_path = os.path.join(folder_path, filename)\n",
    "      if filename.endswith('.pdf'):\n",
    "          loader = PyPDFLoader(file_path)\n",
    "      elif filename.endswith('.docx'):\n",
    "          loader = Docx2txtLoader(file_path)\n",
    "      else:\n",
    "          print(f\"Unsupported file type: {filename}\")\n",
    "          continue\n",
    "      documents.extend(loader.load())\n",
    "  return documents\n",
    "\n",
    "folder_path = \"./content/Documents\"\n",
    "documents = load_documents(folder_path)\n",
    "print(f\"Loaded {len(documents)} documents from the folder.\")\n",
    "print(documents)"
   ]
  },
  {
   "cell_type": "code",
   "execution_count": 18,
   "metadata": {},
   "outputs": [
    {
     "name": "stdout",
     "output_type": "stream",
     "text": [
      "Split the documents into 3 chunks.\n"
     ]
    }
   ],
   "source": [
    "text_splitter = RecursiveCharacterTextSplitter(\n",
    "    chunk_size=1000,\n",
    "    chunk_overlap=200,\n",
    "    length_function=len\n",
    ")\n",
    "\n",
    "splits = text_splitter.split_documents(documents)\n",
    "print(f\"Split the documents into {len(splits)} chunks.\")"
   ]
  },
  {
   "cell_type": "code",
   "execution_count": 19,
   "id": "a83d64fe",
   "metadata": {},
   "outputs": [
    {
     "name": "stdout",
     "output_type": "stream",
     "text": [
      "page_content='Excel Sample Data\n",
      "Inventory Records Data\n",
      "Product ID Product Name Opening \n",
      "Stock\n",
      "Purchase/\n",
      "Stock in\n",
      "Number of \n",
      "Units Sold\n",
      "Hand-In-\n",
      "Stock\n",
      "Cost Price \n",
      "Per Unit (USD)\n",
      "Cost Price\n",
      "Total (USD)\n",
      "P101 Laptop 50 20 10 60 1200 72000\n",
      "P102 Monitor 40 15 5 50 500 25000\n",
      "P103 Keyboard 60 25 15 70 50 3500\n",
      "P104 Headphones 30 10 3 37 100 3700\n",
      "P105 Smartphone 70 30 20 80 900 72000\n",
      "P106 Tablet 45 18 8 55 700 38500\n",
      "P107 Router 55 22 12 65 150 9750\n",
      "P108 External Hard Drive 25 12 5 32 200 6400\n",
      "P109 Wireless Earbuds 35 15 7 43 80 3440\n",
      "P110 Webcam 40 20 10 50 60 3000\n",
      "P111 Desk Chair 20 8 3 25 150 3750\n",
      "P112 Desk Lamp 30 15 7 38 30 1140\n",
      "P113 USB Flash Drive 50 25 12 63 20 1260\n",
      "P114 Ethernet Cable 60 30 15 75 10 750\n",
      "P115 Power Strip 40 20 8 52 25 1300\n",
      "P116 Wireless Mouse 35 15 5 45 40 1800\n",
      "P117 Gaming Keyboard 25 10 4 31 100 3100\n",
      "P118 Gaming Mouse 30 12 6 36 80 2880\n",
      "P119 Gaming Headset 20 8 3 25 120 3000\n",
      "P120 Gaming Chair 15 6 2 19 200 3800\n",
      "P121 Gaming Monitor 25 10 4 29 400 11600\n",
      "P122 Graphics Card 40 18 9 49 600 29400\n",
      "P123 CPU 30 15 7 38 350 13300\n",
      "P124 Motherboard 25 12 5 32 200 6400\n",
      "P125 RAM 50 22 11 61 80 4880' metadata={'producer': '', 'creator': '', 'creationdate': '2025-07-11T05:01:56-07:00', 'title': '', 'author': 'Seemanto Saha', 'subject': '', 'keywords': '', 'moddate': '2025-07-11T05:01:56-07:00', 'source': './content/Documents\\\\Inventory-Records-Sample-Data.pdf', 'total_pages': 2, 'page': 0, 'page_label': '1'}\n"
     ]
    }
   ],
   "source": [
    "print(documents[0])"
   ]
  }
 ],
 "metadata": {
  "kernelspec": {
   "display_name": "venv",
   "language": "python",
   "name": "python3"
  },
  "language_info": {
   "codemirror_mode": {
    "name": "ipython",
    "version": 3
   },
   "file_extension": ".py",
   "mimetype": "text/x-python",
   "name": "python",
   "nbconvert_exporter": "python",
   "pygments_lexer": "ipython3",
   "version": "3.12.5"
  }
 },
 "nbformat": 4,
 "nbformat_minor": 5
}
